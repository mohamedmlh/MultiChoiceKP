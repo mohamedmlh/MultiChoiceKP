{
  "nbformat": 4,
  "nbformat_minor": 0,
  "metadata": {
    "accelerator": "GPU",
    "colab": {
      "name": "Classifieur_Comparaison.ipynb",
      "provenance": [],
      "collapsed_sections": [],
      "toc_visible": true,
      "include_colab_link": true
    },
    "kernelspec": {
      "display_name": "Python (Tensorflow)",
      "language": "python",
      "name": "tensorflow"
    },
    "language_info": {
      "codemirror_mode": {
        "name": "ipython",
        "version": 3
      },
      "file_extension": ".py",
      "mimetype": "text/x-python",
      "name": "python",
      "nbconvert_exporter": "python",
      "pygments_lexer": "ipython3",
      "version": "3.6.8"
    }
  },
  "cells": [
    {
      "cell_type": "markdown",
      "metadata": {
        "id": "view-in-github",
        "colab_type": "text"
      },
      "source": [
        "<a href=\"https://colab.research.google.com/github/riadeb/PI--User-scheduling-in-5G/blob/master/Classifieur_Comparaison.ipynb\" target=\"_parent\"><img src=\"https://colab.research.google.com/assets/colab-badge.svg\" alt=\"Open In Colab\"/></a>"
      ]
    },
    {
      "cell_type": "markdown",
      "metadata": {
        "colab_type": "text",
        "id": "AIB4DvqzIe0q"
      },
      "source": [
        "Model that predicts the topics from a given sentence. Added Siri voice control commands\n",
        "\n",
        "\n",
        "---\n",
        "\n"
      ]
    },
    {
      "cell_type": "code",
      "metadata": {
        "colab_type": "code",
        "id": "cT2MBwyid2K-",
        "outputId": "07df26b8-79cf-44ee-8d7e-fc1348b0743f",
        "colab": {
          "base_uri": "https://localhost:8080/",
          "height": 80
        }
      },
      "source": [
        "import pandas as pd\n",
        "import requests\n",
        "import numpy as np\n",
        "import keras\n",
        "import tensorflow as tf\n",
        "import tensorflow_hub as hub\n",
        "from keras.layers import Conv1D\n",
        "from keras.layers import MaxPooling1D\n",
        "from keras.layers import GlobalAveragePooling1D\n",
        "from keras.layers import Reshape\n",
        "from keras.layers import Dropout\n",
        "from keras.layers.merge import add\n",
        "from keras.layers import LSTM, Embedding, Dense, TimeDistributed, Dropout, Bidirectional, Lambda, Input, Flatten\n",
        "from keras import Model\n",
        "\n",
        "url = \"https://github.com/google-research-datasets/Taskmaster/raw/master/TM-1-2019/self-dialogs.json\"\n",
        "data = requests.get(url).json()\n",
        "numofclasses = 11\n"
      ],
      "execution_count": 0,
      "outputs": [
        {
          "output_type": "stream",
          "text": [
            "Using TensorFlow backend.\n"
          ],
          "name": "stderr"
        },
        {
          "output_type": "display_data",
          "data": {
            "text/html": [
              "<p style=\"color: red;\">\n",
              "The default version of TensorFlow in Colab will soon switch to TensorFlow 2.x.<br>\n",
              "We recommend you <a href=\"https://www.tensorflow.org/guide/migrate\" target=\"_blank\">upgrade</a> now \n",
              "or ensure your notebook will continue to use TensorFlow 1.x via the <code>%tensorflow_version 1.x</code> magic:\n",
              "<a href=\"https://colab.research.google.com/notebooks/tensorflow_version.ipynb\" target=\"_blank\">more info</a>.</p>\n"
            ],
            "text/plain": [
              "<IPython.core.display.HTML object>"
            ]
          },
          "metadata": {
            "tags": []
          }
        }
      ]
    },
    {
      "cell_type": "code",
      "metadata": {
        "id": "5QJIlTlYQ91G",
        "colab_type": "code",
        "colab": {}
      },
      "source": [
        "def transform_array(Y): #transforms Y from class name array to appropriate format\n",
        "    classes_arr = np.unique(Y)\n",
        "    classes_dict = dict()\n",
        "    for i,class_n in enumerate(np.unique(Y)):\n",
        "        classes_dict[class_n] = i\n",
        "    for i in range(len(Y)):\n",
        "        toadd = [0]*numofclasses\n",
        "        toadd[classes_dict[Y[i]]] = 1\n",
        "        Y[i] = list(toadd);\n",
        "    return np.array(Y)"
      ],
      "execution_count": 0,
      "outputs": []
    },
    {
      "cell_type": "markdown",
      "metadata": {
        "id": "KhYWoqAzQ91J",
        "colab_type": "text"
      },
      "source": [
        "## Adding New Categories"
      ]
    },
    {
      "cell_type": "code",
      "metadata": {
        "id": "D9Q5yjyuQ91K",
        "colab_type": "code",
        "colab": {}
      },
      "source": [
        "data_raw = pd.read_csv(\"NLU_Data.csv\", sep = \";\")"
      ],
      "execution_count": 0,
      "outputs": []
    },
    {
      "cell_type": "code",
      "metadata": {
        "id": "V3wjP_d0Q91M",
        "colab_type": "code",
        "colab": {}
      },
      "source": [
        "data_raw = data_raw.fillna(\"Other\")"
      ],
      "execution_count": 0,
      "outputs": []
    },
    {
      "cell_type": "code",
      "metadata": {
        "id": "jFKyw40xQ91N",
        "colab_type": "code",
        "colab": {}
      },
      "source": [
        "def counting_labels(name, data_raw):\n",
        "    label_occur_dict = {}\n",
        "    for i in range(data_raw.shape[0]):\n",
        "        if data_raw[name][i] not in label_occur_dict.keys():\n",
        "            label_occur_dict[data_raw[name][i]] = 0\n",
        "        label_occur_dict[data_raw[name][i]] += 1\n",
        "    return label_occur_dict"
      ],
      "execution_count": 0,
      "outputs": []
    },
    {
      "cell_type": "code",
      "metadata": {
        "id": "y_B0tx7SQ91P",
        "colab_type": "code",
        "outputId": "142105b3-84ef-492e-edd5-b495f596c517",
        "colab": {
          "base_uri": "https://localhost:8080/",
          "height": 323
        }
      },
      "source": [
        "counting_labels(\"scenario\", data_raw)"
      ],
      "execution_count": 0,
      "outputs": [
        {
          "output_type": "execute_result",
          "data": {
            "text/plain": [
              "{'alarm': 582,\n",
              " 'audio': 412,\n",
              " 'calendar': 702,\n",
              " 'cooking': 5,\n",
              " 'datetime': 714,\n",
              " 'email': 12,\n",
              " 'general': 739,\n",
              " 'iot': 1323,\n",
              " 'lists': 1,\n",
              " 'music': 571,\n",
              " 'news': 844,\n",
              " 'play': 1163,\n",
              " 'qa': 22,\n",
              " 'recommendation': 24,\n",
              " 'social': 5,\n",
              " 'takeaway': 407,\n",
              " 'transport': 10,\n",
              " 'weather': 1042}"
            ]
          },
          "metadata": {
            "tags": []
          },
          "execution_count": 6
        }
      ]
    },
    {
      "cell_type": "code",
      "metadata": {
        "id": "6K9I6JWQQ91Q",
        "colab_type": "code",
        "colab": {}
      },
      "source": [
        "adding_categories = ['music', 'datetime', 'weather', 'news']"
      ],
      "execution_count": 0,
      "outputs": []
    },
    {
      "cell_type": "code",
      "metadata": {
        "id": "Ap-eUD4fQ91R",
        "colab_type": "code",
        "colab": {}
      },
      "source": [
        "def labelization(data_raw):\n",
        "    dict_ = {}\n",
        "    for category in adding_categories:\n",
        "        dict_[category] = []\n",
        "    for i in range(data_raw.shape[0]):\n",
        "        if data_raw[\"scenario\"][i] in adding_categories and data_raw[\"answer_normalised\"][i] != \"Other\":\n",
        "            dict_[data_raw[\"scenario\"][i]] .append( data_raw[\"answer_normalised\"][i] ) \n",
        "    return dict_"
      ],
      "execution_count": 0,
      "outputs": []
    },
    {
      "cell_type": "code",
      "metadata": {
        "id": "va5rHQiQQ91S",
        "colab_type": "code",
        "colab": {}
      },
      "source": [
        "command_siri = labelization(data_raw)"
      ],
      "execution_count": 0,
      "outputs": []
    },
    {
      "cell_type": "code",
      "metadata": {
        "id": "Z8EtMfJcQ91T",
        "colab_type": "code",
        "outputId": "b20310fa-1b8e-44aa-a8ae-dfe817b44c87",
        "colab": {
          "base_uri": "https://localhost:8080/",
          "height": 1000
        }
      },
      "source": [
        "command_siri['datetime']"
      ],
      "execution_count": 0,
      "outputs": [
        {
          "output_type": "execute_result",
          "data": {
            "text/plain": [
              "[\"what's the time in australia\",\n",
              " 'tell me the time in moscow',\n",
              " 'tell me the time in g. m. t. plus five',\n",
              " \"tell me today's date\",\n",
              " 'what date is it today',\n",
              " \"what's the date is currently\",\n",
              " 'whats the day today',\n",
              " 'thats the date',\n",
              " 'what is the time',\n",
              " 'tell me the time',\n",
              " 'what time is it',\n",
              " \"what's date today\",\n",
              " 'what day is today',\n",
              " 'tell me a date',\n",
              " 'what time is it in las vegas',\n",
              " 'what time is it in beijing',\n",
              " \"what's the time\",\n",
              " 'is it five o clock already',\n",
              " \"what's the time in new york\",\n",
              " \"what's the time in tokyo now\",\n",
              " 'is it night time in peru',\n",
              " 'it is five hundred and forty five am in liverpool what time is now new york',\n",
              " 'given it is four hundred and thirty five pm in london what time is it in melbourne',\n",
              " 'what time is it in moscow now',\n",
              " 'how many days are left in this year',\n",
              " \"what day is new year's eve this year\",\n",
              " 'what day is memorial day this year',\n",
              " 'what day of the week is the twenty second march',\n",
              " 'twenty ninth march comes on what day',\n",
              " 'what day of the week is first april',\n",
              " 'can you tell me the time',\n",
              " 'what is the current time',\n",
              " 'what is the current date',\n",
              " 'is it monday today',\n",
              " 'what time is twelve pm eastern time in pacific time',\n",
              " 'if it is noon in virginia what time is it in california',\n",
              " 'what is the time difference between eastern time and pacific time',\n",
              " 'what day is it today',\n",
              " 'what day of the month is next tuesday',\n",
              " \"what is today's date\",\n",
              " 'what is the date and time',\n",
              " 'what day is it',\n",
              " 'tell me the date and the time',\n",
              " \"what's the date\",\n",
              " 'tell me the hour',\n",
              " 'what time is it in the other time zones',\n",
              " 'what time zone is arizona',\n",
              " 'what time is it in the east',\n",
              " 'what time is it in new york city',\n",
              " 'what is the time in india right now',\n",
              " 'what time is it right now in australia',\n",
              " 'what time is it in des moines',\n",
              " 'whats the time in denver',\n",
              " 'hows the time in key largo',\n",
              " 'whats the time',\n",
              " 'what time is it right now',\n",
              " 'give me the time',\n",
              " \"how many birthday's are on twenty third\",\n",
              " 'is it second saturday on twelfth',\n",
              " 'is there christmas on twenty second',\n",
              " 'what is the date',\n",
              " 'what is the time in the pacific timezone',\n",
              " 'what is the time in the eastern timezone',\n",
              " 'what is the time in alaska',\n",
              " 'what day of the week is thanksgiving',\n",
              " 'what is the last day of the month',\n",
              " 'what day of the month is fat tuesday',\n",
              " 'what time is it eastern',\n",
              " 'what is the time central',\n",
              " 'what is the current mountain time',\n",
              " 'what is time now in california',\n",
              " 'time now in new york',\n",
              " 'current time in japan',\n",
              " 'please can i know what time will it be at six pm here in australia',\n",
              " 'can you tell how many hours of difference are between boston and los angeles',\n",
              " 'please convert the time of here at nine pm to brasil timezone',\n",
              " 'can you tell me what date it is',\n",
              " 'can you tell me what time it is',\n",
              " 'can you tell me what month it is',\n",
              " 'can you tell me what time is it',\n",
              " 'what time is it now',\n",
              " 'display current time',\n",
              " 'give me date and time',\n",
              " 'set timezone',\n",
              " 'what is the time now in new york',\n",
              " 'give me the time in washington',\n",
              " 'give me the time at washington right now',\n",
              " 'change the time zone from washington to new york',\n",
              " 'change this time zone to wasington',\n",
              " 'change the time in this location to ist',\n",
              " 'what day of the month is it',\n",
              " 'what time is it in miami florida',\n",
              " 'what time is it in cleveland ohio',\n",
              " 'what time is it in honolulu',\n",
              " 'tell me what time it is right now',\n",
              " 'give me the current time',\n",
              " 'what time are we looking at right now',\n",
              " 'what time is it in new york',\n",
              " 'what time is it right now in new york',\n",
              " 'please tell me the current time in new york',\n",
              " 'please tell me what time it is',\n",
              " 'what is the time in london right now',\n",
              " \"if it's eight pm on the east coast what time is it in sacramento california\",\n",
              " 'what is the time difference between here and japan',\n",
              " 'what time is it in new york now',\n",
              " 'can you tell me what time is it in new york',\n",
              " 'what hour is it in new york now',\n",
              " 'how many hours difference is hong kong from new york city',\n",
              " 'what time is it in london right now',\n",
              " \"please show me today's date\",\n",
              " \"can i have today's date\",\n",
              " 'what day of the week does the fifteenth of march fall on',\n",
              " 'when is the next month that has thirty one days',\n",
              " 'today date',\n",
              " 'tell me the date',\n",
              " 'is it the twenty ninth already',\n",
              " 'tell me what day of the week it is',\n",
              " 'whats the time in sydney now',\n",
              " 'time in new york now',\n",
              " 'what is the current time in lagos nigeria',\n",
              " 'what is my current time',\n",
              " \"if it's ten pm in california what time is it in alabama\",\n",
              " \"if it's midnight in colorado what time is it in munich\",\n",
              " \"if it's sunrise in stockholm what time is it in okinawa\",\n",
              " 'what is the current time in new york',\n",
              " 'present time in new york',\n",
              " 'convert new york time to london',\n",
              " 'what will be day on fifteenth march',\n",
              " 'give me the date of monday on third week of this month',\n",
              " 'i want the date of last monday of this month',\n",
              " 'what is the time in new york now',\n",
              " 'what is the time in india when the time in us is twelve pm',\n",
              " 'what is the time at singapore when or time is five pm',\n",
              " 'tell me what time it is',\n",
              " 'hello what time it is now',\n",
              " 'abhi kitna time ho raha hai',\n",
              " \"can you tell me today's date\",\n",
              " 'tell me the current time',\n",
              " 'please give me the time',\n",
              " \"it's eight fifty five here what time is it in england\",\n",
              " \"if it's five am in berlin what time is it here\",\n",
              " 'tell me the current time in central time',\n",
              " 'what day is it on fifth december',\n",
              " 'does it fall a sunday on fifth december',\n",
              " 'is there a national holiday on fifth december',\n",
              " 'five million, twenty two thousand and seventeen',\n",
              " 'ten million, twenty two thousand and seventeen',\n",
              " 'fifteen million, twenty two thousand and seventeen',\n",
              " 'change this time to ist',\n",
              " 'i want exact time in washington right now',\n",
              " 'what will bw thr time now in washington',\n",
              " 'what is current time',\n",
              " 'can you tell me current time',\n",
              " \"hey what's today's date\",\n",
              " 'can you tell me what the date is today',\n",
              " 'uh what does the current date happen to be',\n",
              " \"what's the time in ottawa\",\n",
              " 'what the time difference from here to ottawa',\n",
              " 'tell me the current time in ottawa',\n",
              " 'is the eighteenth a monday or a sunday',\n",
              " 'what day is easter',\n",
              " 'fifty thousand two hundred and seventeenth',\n",
              " 'one hundred thousand two hundred and seventeenth',\n",
              " 'one hundred and fifty thousand two hundred and seventeenth',\n",
              " 'what is the time right now',\n",
              " 'can you tell me the current time',\n",
              " 'what date is the third friday of this month',\n",
              " 'what day of the week is sept twelve of this year',\n",
              " 'what was the date two wednesdays back from today',\n",
              " 'time',\n",
              " 'what is the time now',\n",
              " 'how much in the clock',\n",
              " 'please tell me the time',\n",
              " 'tell me the time in canberra',\n",
              " 'what time is it in atlanta',\n",
              " 'when is halloween',\n",
              " 'what day of the week is the first of march',\n",
              " 'when is easter in the year two thousand and eighteen',\n",
              " 'if it is four pm in missouri what time is it in london',\n",
              " \"it's eight at night in france what time is it in new york\",\n",
              " 'what is the time difference between california and michegan',\n",
              " 'what is time now in japan compared to usa',\n",
              " 'show me the current time in germany',\n",
              " 'convert usa time in to indian time',\n",
              " 'what is the current date today',\n",
              " 'what is the current day month and year',\n",
              " \"what is today's current date\",\n",
              " 'what time is it in dallas',\n",
              " 'can you tell me the current time in dallas texas',\n",
              " 'tell me what time it is in dallas texas',\n",
              " 'please provide current time in india',\n",
              " 'tell me current time in los angels',\n",
              " 'tell me present time in malaysia',\n",
              " 'whats the current time at newyork',\n",
              " 'tell me current time at newyork',\n",
              " 'newyork time please',\n",
              " 'what is the time difference between new york and lagos',\n",
              " 'the time difference between lagos and new york is what',\n",
              " 'what time is time',\n",
              " 'can you please tell me the time',\n",
              " \"what's the time in china right now\",\n",
              " 'give the time in dubai',\n",
              " 'what time is it in sweden as we speak',\n",
              " 'convert two thousand three hundred and thirty from g. m. t. plus four hundred and thirty to g. m. t. two hundred',\n",
              " 'convert one thousand and thirty from g. m. t. plus two hundred and thirty to g. m. t. zero hundred',\n",
              " 'convert seven hundred and thirty from g. m. t. three hundred and thirty to g. m. t. plus four hundred',\n",
              " 'what is the date today',\n",
              " 'date today',\n",
              " 'today is',\n",
              " 'please what is the current time in paris',\n",
              " 'what is the exact time now',\n",
              " 'how many minutes pass four pm',\n",
              " 'time in las vegas',\n",
              " 'what time in las vegas',\n",
              " 'las vegas time',\n",
              " 'tell me current time',\n",
              " 'time left for ten am',\n",
              " 'time and date of today',\n",
              " 'what is the time in clock',\n",
              " 'show me minutes of current hour',\n",
              " 'how many seconds are left to complete this hour',\n",
              " \"what's the time now\",\n",
              " 'what date is today',\n",
              " 'what month is today',\n",
              " \"give me new york's current time\",\n",
              " 'what time is it in boston',\n",
              " \"show me boston's current time\",\n",
              " 'greeting of the day and states date after greeting',\n",
              " 'what is the current date time group',\n",
              " 'what is london time',\n",
              " 'what time is it in singapore',\n",
              " 'what is the time in perth',\n",
              " 'what is the time in milwaukee',\n",
              " 'what time and day is it today',\n",
              " 'current time and date please',\n",
              " 'can you check the time',\n",
              " 'i need to know the time',\n",
              " 'what time is it in karachi right now',\n",
              " \"when it's ten pm here what time is it in brisbane\",\n",
              " 'give me the time in london',\n",
              " 'what day was it on my birth date',\n",
              " 'was christmas one thousand nine hundred and seventy two on a weekend',\n",
              " \"what's the date of the winter solstice two years from now\",\n",
              " 'could you tell me what time it is',\n",
              " 'what is the current time right now',\n",
              " 'i need to know the time right now what is it',\n",
              " 'time please',\n",
              " 'tell me the time now',\n",
              " \"what's today date\",\n",
              " \"what's the date today\",\n",
              " \"tell me the today'd date\",\n",
              " 'what day of the week was december four one thousand nine hundred and eighty two',\n",
              " 'what week of the year does the summer season start',\n",
              " 'how many weeks are left for christmas',\n",
              " 'please convert nine am cst to est time',\n",
              " 'i need you to convert nine am cst to est time',\n",
              " 'what is the time nine am cst in est',\n",
              " 'on what date is easter this year',\n",
              " 'which day is friday the thirteenth this year',\n",
              " 'what day this year has the longest daylight time',\n",
              " 'it is ten am in eastern standard time what time it is now it pacific standard time',\n",
              " 'it is seven am in pacific standard time',\n",
              " 'what time is it in london now',\n",
              " 'get me the time in london now',\n",
              " 'display the local time of london at this moment',\n",
              " 'whats the date today',\n",
              " 'can you tell me the date today',\n",
              " 'todays a lovely day what the date',\n",
              " 'whats the time in london',\n",
              " 'could you tell me the time in london',\n",
              " 'may i know the time in london',\n",
              " 'what time of day is it in london',\n",
              " 'tell me what time is it',\n",
              " 'tell me the time n india',\n",
              " 'what could be the time in india',\n",
              " 'let me know the time in india',\n",
              " 'five hundredth',\n",
              " 'six hundredth',\n",
              " 'seven hundredth',\n",
              " \"what's time\",\n",
              " 'g. m. t. time',\n",
              " 'what time does the sun set',\n",
              " 'what time is it currently on the east coast',\n",
              " 'is the time currently correct for where i am located',\n",
              " 'current time please',\n",
              " 'what time is it in florida',\n",
              " 'what is the time zone in florida',\n",
              " 'what is the time over in florida',\n",
              " 'today is what date',\n",
              " 'i need the time of day',\n",
              " 'what day of the week is valentines on',\n",
              " 'what is tomorrows date',\n",
              " 'is today march sixth',\n",
              " 'what is today',\n",
              " 'is today the fourth or the fifth',\n",
              " \"let me know today's date in american format\",\n",
              " 'current date please',\n",
              " 'what is today date',\n",
              " 'which date is today',\n",
              " 'show me the time',\n",
              " 'march tenth lands on what day of the week',\n",
              " 'what is the date of next saturday',\n",
              " 'the last friday of the month lands on what day',\n",
              " 'what time is it in london',\n",
              " 'whats the time in chicago',\n",
              " 'what time is it in akron',\n",
              " 'whay day does easter fall on this year',\n",
              " 'what day is december thirteenth',\n",
              " 'what day does april sixteenth fall on',\n",
              " 'tell me the date today',\n",
              " 'what is mondays actual date',\n",
              " 'the second of next month lands on what day',\n",
              " 'what is the date of the last sunday in the month',\n",
              " 'what time is it in this city',\n",
              " 'new york time',\n",
              " 'tell me whuch time is it in new york',\n",
              " 'tell me what time it currently is',\n",
              " 'can you tell me what the time is right now',\n",
              " \"what is today's exact date\",\n",
              " 'tell me what the date is today',\n",
              " 'what time is it in austin',\n",
              " \"hey what's the current time in austin\",\n",
              " 'tell me what time it is right now in austin',\n",
              " \"yo what's the current time\",\n",
              " \"what's today's date\",\n",
              " 'what time is it in central standard time',\n",
              " 'what time is it in mountain standard time',\n",
              " 'what time is it in pacific standard time',\n",
              " 'what is eastern standard time right noe',\n",
              " 'what is the time in the midwest right now',\n",
              " \"if it is twelve hours ahead of eastern standard centaur time what's the time in the philippines now\",\n",
              " 'what time is it in that city',\n",
              " 'what time zone is this city in',\n",
              " 'what hour is it in another city',\n",
              " \"what's the date tomorrow\",\n",
              " 'what day of the week does christmas fall on this year',\n",
              " 'what day does my birthday fall on this year',\n",
              " \"what's the time in hong kong\",\n",
              " \"what's the time in madrid\",\n",
              " \"what's the time new york\",\n",
              " 'what is the current central time',\n",
              " 'what is the current pacific time',\n",
              " 'what is the current eastern time',\n",
              " 'what time is it in <unk> insert city <unk>',\n",
              " 'what is the time difference between here and <unk> insert city <unk>',\n",
              " 'what is the time in <unk> insert city <unk>',\n",
              " 'what is the time difference between pacific and central',\n",
              " 'what is the time difference between eastern and pacific',\n",
              " 'what is the time difference between central and eastern',\n",
              " 'what is todays date',\n",
              " 'how late am i',\n",
              " \"what's the time in tampa\",\n",
              " 'tell me the time in jakarta',\n",
              " 'report the time in miami',\n",
              " 'what time is it in hong kong',\n",
              " 'what is the current time in hong kong',\n",
              " 'what is the time difference between my location and hong kong',\n",
              " 'where are we in the stream of time',\n",
              " 'what is the date for next tuesday',\n",
              " 'is the twenty third on the weekend',\n",
              " 'what time is it in california',\n",
              " 'if i call mike in california at six pm what will his time be',\n",
              " 'what time will it be locally at nine am bangalore india time',\n",
              " 'how time is it',\n",
              " 'what time does the match start',\n",
              " 'is the twenty second on a wednesday',\n",
              " 'the twenty second is on what day of the week',\n",
              " 'what day of the week does the twenty second fall on this month',\n",
              " 'is it ten',\n",
              " 'what time is it right now in pacific time',\n",
              " 'it is nine here what time is it in california',\n",
              " 'when it is nine in the east what time is it in the west',\n",
              " 'can u please change the timezone to us',\n",
              " 'please change timezone to canada',\n",
              " 'please change timezone to india',\n",
              " 'what is the current time in chennai',\n",
              " 'what is the current time in california',\n",
              " 'what is the current date in india',\n",
              " 'what is the time in london now',\n",
              " 'what is the time in beijing',\n",
              " 'what is the time in la',\n",
              " 'show me the current time',\n",
              " \"what's the current time in orlando fl\",\n",
              " 'tell me the time in london england',\n",
              " \"what time is it in someplace when it's sometime in otherplace\",\n",
              " 'tell me the time in someplace',\n",
              " 'what time is it in someplace',\n",
              " 'what is the date and time for today',\n",
              " \"is today's date the ninth\",\n",
              " 'what time i sit in china right now',\n",
              " 'what is the time in zimbabwe right now',\n",
              " 'what time is it in the eastern half of the us right now',\n",
              " 'today is which date',\n",
              " 'show me the date of today',\n",
              " 'let me know the time',\n",
              " 'what time is it in mountain time zone',\n",
              " 'what is the timer in japan',\n",
              " 'what time is it on the west coast',\n",
              " 'please tell me the date and time',\n",
              " 'what is the correct time',\n",
              " 'can i get the time',\n",
              " 'i need to know what is the date today',\n",
              " 'what day does halloween fall on this year',\n",
              " 'when is easter',\n",
              " 'what day is the twentieth this month',\n",
              " 'what time is it in in california',\n",
              " 'how many hours ahead is nyc',\n",
              " 'say the time',\n",
              " 'announce the current time',\n",
              " 'what day of the week is halloween',\n",
              " 'what day is easter this year',\n",
              " 'when is the next holiday',\n",
              " 'when is the first weekday of the month',\n",
              " 'how many days are in this month',\n",
              " \"what's the best day next week to go out for pizza\",\n",
              " 'what is the time in new york',\n",
              " 'can you tell me the time in new york',\n",
              " 'do you know what day it is',\n",
              " \"please let me know today's date\",\n",
              " 'current time',\n",
              " 'what day is the fifth',\n",
              " 'convert g. m. t. to ist',\n",
              " 'convert current time from g. m. t. to est',\n",
              " 'convert current time from ist to est',\n",
              " 'show me what time it is',\n",
              " 'what is the day today',\n",
              " 'what is ten am in eastern time',\n",
              " 'please let me know what time seven pm is in pst',\n",
              " 'what time is it now in g. m. t.',\n",
              " 'current time new york',\n",
              " \"what's the current time in new york\",\n",
              " 'hey siri what time is it',\n",
              " \"hey siri what's the time\",\n",
              " 'hey siri tell me what time it is',\n",
              " 'what is the time in boston',\n",
              " 'what is the current time in boston',\n",
              " 'tell me the time in boston',\n",
              " 'change mountain standard to pacific',\n",
              " 'change my clock to central time zone from my current zone',\n",
              " 'i need the time zone from london england instead of central time zone',\n",
              " 'whats the time now',\n",
              " 'can i know whats the time now',\n",
              " 'please check the time',\n",
              " 'hey what is the time',\n",
              " 'is it after noon yet',\n",
              " \"what's the current time in eastern standard\",\n",
              " 'what time is it on the east coast of the united states',\n",
              " 'please tell me the current date',\n",
              " \"what's the time of day right now\",\n",
              " 'what time is it in chicago right now',\n",
              " 'what is the time in the pacific time zone at this very moment',\n",
              " 'in how many hours will it be midnight in london england',\n",
              " 'what is the time in china',\n",
              " 'what is the time in dubai',\n",
              " 'what time is it in dubai',\n",
              " 'tell me the time in tokyo',\n",
              " 'what hour of the day is it in dallas',\n",
              " 'what time is it in england',\n",
              " \"what's the time difference between here and queensland\",\n",
              " 'give me the time in pst',\n",
              " 'please tell me what time it is in denver',\n",
              " 'what time is it in cleveland',\n",
              " 'the time in cairo please',\n",
              " 'what is the time in bangalore',\n",
              " 'what is the time in hyderabad',\n",
              " 'what is the time in ajmer',\n",
              " \"what's the time in dubai\",\n",
              " 'what is the current time in london',\n",
              " 'be my clock',\n",
              " 'what is the time in london',\n",
              " 'time wellington nz',\n",
              " 'give me the time in phoeni <unk> az',\n",
              " 'what day is the twenty second',\n",
              " 'what is the current time in delhi',\n",
              " 'give me the local time of london',\n",
              " 'time in new york',\n",
              " 'what is the first friday of next month',\n",
              " 'how many days are in february',\n",
              " 'how many saturdays are in march',\n",
              " 'hey what time is it in london now',\n",
              " 'current date',\n",
              " 'what time is it relative to new york',\n",
              " 'could you please tell me what the current time is',\n",
              " 'i want to know what time it is',\n",
              " 'day on twenty second april',\n",
              " 'what day it is on twenty second april',\n",
              " 'twenty second april day',\n",
              " 'how close is it to eight pm',\n",
              " 'what time is it in swotzeeland',\n",
              " 'can you change my timezone from central time to pacific',\n",
              " \"can you convert my time zone to the timezone i'm currently in\",\n",
              " 'can you change my timezone to central',\n",
              " 'what is the time in chicago',\n",
              " 'what is the time in paris',\n",
              " 'is the time different in moscow',\n",
              " 'tell me te time in japan',\n",
              " 'report the current time in oakland',\n",
              " 'what time is it now in the eastern timezone',\n",
              " 'what time is it in the central timezone',\n",
              " 'what is the time in the mountain timezone',\n",
              " 'current time in',\n",
              " 'its what time in',\n",
              " 'what day of the week is the twenty first of may',\n",
              " 'what date is easter sunday this year',\n",
              " 'what day is halloween this year',\n",
              " 'today is what day',\n",
              " 'what time is it in chicago',\n",
              " 'is it noon in paris',\n",
              " 'what day n. time is it in manila',\n",
              " 'can you give me the time in this timezone',\n",
              " \"what's the time in this timezone\",\n",
              " 'tell me the time in this time zone',\n",
              " 'what day of the week is june twenty seventh on this year',\n",
              " 'what day does my birthday fall on this year june twenty seventh',\n",
              " 'what day does june twenty seventh two thousand and seventeen fall on this year',\n",
              " 'what time is it in los angeles',\n",
              " 'what is the time in new york',\n",
              " 'what is it today',\n",
              " 'the date today please',\n",
              " 'what day today',\n",
              " 'on april tenth please me know the status of my favorite website',\n",
              " 'on may thirteenth please run a credit check and email the results',\n",
              " 'convert time zone',\n",
              " 'when is the twenty second',\n",
              " 'the twenty second is what day',\n",
              " 'what is the time in another city',\n",
              " 'what time is it in another city',\n",
              " 'in another city what time is it',\n",
              " 'please give me the date today',\n",
              " 'what time is it now in new york',\n",
              " 'how hours distance is between my location and new york',\n",
              " 'show me the time now in boston',\n",
              " 'how many fridays are there in may',\n",
              " 'what day of the week was february four one thousand nine hundred and seventy two',\n",
              " 'search to find current local time and time zone',\n",
              " 'what time is it in a city',\n",
              " 'would like to see the time zone',\n",
              " 'what is the date and month today',\n",
              " 'what will the date be next wensday',\n",
              " \"what is today's day\",\n",
              " 'what day is the fifteenth',\n",
              " 'what day is christmas',\n",
              " 'can i get the current time',\n",
              " 'what is date today',\n",
              " \"i'd like to know what time it is right now\",\n",
              " 'where does the twenty second fall this month',\n",
              " 'what day of the week is the twenty third of this month',\n",
              " 'when is the third monday of this month',\n",
              " 'what day of the week is the twenty fifth',\n",
              " 'what day of the week is the twenty sixth',\n",
              " 'what day of the week is the twenty seventh',\n",
              " 'what day of the week is it',\n",
              " 'please tell me the date',\n",
              " 'what time is it in pacific time',\n",
              " 'what is the time for the eastern time zone',\n",
              " 'if i was in the eastern time zone what time would it be',\n",
              " 'when is the next friday the thirteenth',\n",
              " 'is the twenty third of april a saturday',\n",
              " 'what is the week today',\n",
              " 'is it five yet',\n",
              " 'give me the current date',\n",
              " 'the time',\n",
              " 'siri what time is it in san diego',\n",
              " 'siri what time is it in denver',\n",
              " 'siri what time is it in las vegas',\n",
              " 'please tell me what is the time in sanfranscio',\n",
              " 'please tell me what is the time in tokyo japan',\n",
              " 'could you please tell me what time is in singapore',\n",
              " 'search for information on internet',\n",
              " \"please give me today's date\",\n",
              " 'what time is it in new york city right now',\n",
              " 'look up the current time in new york city',\n",
              " 'i need to know what time it is right now in new york city',\n",
              " 'eight am manila time is what in eastern time',\n",
              " 'eight am in manila is what in new york',\n",
              " 'convert eight am manila time to new york time',\n",
              " 'what day of the week does the twenty fifth july fall on',\n",
              " 'what is the date next wednesday',\n",
              " 'show time in china',\n",
              " 'what would be the current time in ivory coast',\n",
              " \"now it's five hundred and thirty pm in india what about the time in ivory coast\",\n",
              " 'what is the time difference between india and ivory coast',\n",
              " 'what is the time in geneva',\n",
              " \"what's the time now in new delhi\",\n",
              " 'what is the time now in san diego',\n",
              " 'is it twentieth march today',\n",
              " 'time zone between india and us',\n",
              " 'time between us and canada',\n",
              " 'time difference between uk and us',\n",
              " 'can you tell me the time right now',\n",
              " 'please alert me to the time',\n",
              " 'can you tell me the time at san francisco',\n",
              " 'what time is it in denver',\n",
              " 'show time in mumbai',\n",
              " 'whats the time in dubai',\n",
              " 'current time in ny',\n",
              " 'ute to current time',\n",
              " 'switch to <unk> time zone',\n",
              " 'which time zone are we in please change to current',\n",
              " 'which day of week is the twenty fourth',\n",
              " 'when does twenty fourth come in the next week',\n",
              " 'is twenty fourth on tuesday',\n",
              " 'which day is march twenty',\n",
              " 'which date is on next monday',\n",
              " 'what time is it',\n",
              " 'please tell me what time is now in canada',\n",
              " 'what is the time in canada now',\n",
              " 'mention the time in canada now',\n",
              " 'how many sunday having this month',\n",
              " 'how many muhurtham in this month',\n",
              " 'do we have thirty first day on this month',\n",
              " 'how many days until march thirty',\n",
              " 'what is the date next saturday',\n",
              " 'how many hours remaining to reach midnight in city',\n",
              " 'how many hours gone from midnight on city',\n",
              " 'how many hours remaining for mid noon',\n",
              " 'tell me the current time in san paulo brazil',\n",
              " 'what is the time difference between california and new york',\n",
              " 'what time can i call from pennsylvania and it will be business hours in australia',\n",
              " 'can you please ute me the time',\n",
              " 'what is the current time in our home town',\n",
              " 'how much later is new york than la',\n",
              " 'what is the time difference between here and there',\n",
              " 'what day is the twenty second of may',\n",
              " 'what date is the fourth monday of march this year',\n",
              " 'convert two thousand one hundred and thirty from gtm four hundred to g. m. t. four hundred and thirty',\n",
              " 'convert eight thirty from gtm four hundred to g. m. t. five hundred and thirty',\n",
              " 'convert one hundred and two from gtm four hundred and thirty to g. m. t. one hundred and thirty',\n",
              " 'plesae let me know the current time at new york',\n",
              " 'plesae let me know the current time at london',\n",
              " 'plesae let me know the current time at new delhi',\n",
              " 'can u give the date today',\n",
              " \"today's date\",\n",
              " 'convert time zone to ist',\n",
              " 'set the time zone to g. m. t.',\n",
              " 'change the time zone from irish time zone to moscow time zone',\n",
              " \"whats today's date\",\n",
              " 'display date',\n",
              " 'give me the current date today',\n",
              " 'show me the current date today',\n",
              " 'just let me know the current date today',\n",
              " 'what is the time in las vegas',\n",
              " 'what time is it in tokyo japan',\n",
              " 'will you tell me what time it is in cloverdale indiana',\n",
              " 'may twenty two is my birthdate and i want to know the what day is twenty third may',\n",
              " 'what day of the week is november mber fourteenth',\n",
              " 'august fifteenth is what day of the week',\n",
              " 'what day of the week is sixteenth',\n",
              " 'what day of the week is twenty fifth',\n",
              " 'what day of the week is thirtieth',\n",
              " 'can you give me the time in new delhi',\n",
              " 'give me the time in sydney australia',\n",
              " 'time now',\n",
              " 'date',\n",
              " 'todays date',\n",
              " 'what day does my birthday fall on next year',\n",
              " 'what day of the week does the next holiday fall on',\n",
              " 'show me what day the thirty first is on',\n",
              " 'what day o the week is fourteenth',\n",
              " 'what day o the week is twenty first',\n",
              " 'what day o the week is twelfth',\n",
              " 'what is the day on twenty third march',\n",
              " 'on fifth april which day of the week',\n",
              " 'is on eighth november there is monday or some other day',\n",
              " 'ten past seven',\n",
              " 'a quarter to two',\n",
              " 'current time in london',\n",
              " 'current time in cpt',\n",
              " 'current time in g. m. t.',\n",
              " 'date and time',\n",
              " 'current date time',\n",
              " 'clock time',\n",
              " 'uae time',\n",
              " 'alarm clock',\n",
              " 'what time',\n",
              " 'what hour now',\n",
              " 'which day is march twenty fourth',\n",
              " 'is twenty first of the week is saturday',\n",
              " 'which week is twenty third',\n",
              " 'whats today',\n",
              " 'date in new york',\n",
              " 'how many days is it until may twenty fifth',\n",
              " 'what day of the week does july fourth fall on this year',\n",
              " 'is april fifteenth on a weekend',\n",
              " 'switch to los angeles time',\n",
              " 'give me moscow time',\n",
              " 'what is paris time',\n",
              " 'what year is it',\n",
              " \"could you tell me what today's date is\",\n",
              " 'convert eastern time to western time',\n",
              " 'show me the time in new york city',\n",
              " 'what is the time in austrailia right now',\n",
              " 'what time is it in central time zone',\n",
              " 'if it is six am here what time is it in tokyo',\n",
              " 'how many hours difference is there between london and new york',\n",
              " 'what does the clock say',\n",
              " 'do you have the time',\n",
              " 'chicago time',\n",
              " 'time in chicago',\n",
              " 'hey what time is it in ocho rios jamaica',\n",
              " 'hey what time is it in dallas texas',\n",
              " 'hey what time is it in orlando florida',\n",
              " 'what is the month day and year',\n",
              " 'tell me the time in another city in us',\n",
              " 'i want the time for another city outside us',\n",
              " \"what's the time for neighboring city\",\n",
              " 'what is the date for the following monday',\n",
              " 'what is the date two saturdays from now',\n",
              " 'please tell me the date for the first day of next month',\n",
              " 'today is monday is it',\n",
              " 'today is fifth march is it or not']"
            ]
          },
          "metadata": {
            "tags": []
          },
          "execution_count": 10
        }
      ]
    },
    {
      "cell_type": "code",
      "metadata": {
        "colab_type": "code",
        "id": "yBch23JGd5Xx",
        "colab": {}
      },
      "source": [
        "X,Y = [],[]\n",
        "X_val,Y_val = [],[]\n",
        "samplestotakefromeachclass = 1000\n",
        "dd = {'auto': 0,\n",
        " 'coffee': 0,\n",
        " 'movie': 0,\n",
        " 'pizza': 0,\n",
        " 'restaurant': 0,\n",
        " 'uber': 0,\n",
        " 'non-opening':0}\n",
        "for category in command_siri.keys():\n",
        "    dd[category] = 0\n",
        "\n",
        "maxlen = 30\n",
        "batchsize = 32;\n",
        "for ut in data:\n",
        "    sent = ut[\"utterances\"][0]\n",
        "    class_to_add = ut[\"instruction_id\"].split(\"-\")[0]\n",
        "    if dd[class_to_add] < samplestotakefromeachclass: \n",
        "        X.append(sent[\"text\"])\n",
        "        Y.append(class_to_add)\n",
        "        dd[class_to_add] += 1\n",
        "    else:\n",
        "        X_val.append(sent[\"text\"])\n",
        "        Y_val.append(class_to_add)\n",
        "\n",
        "    class_to_add = 'non-opening'\n",
        "    if dd[class_to_add] < 2 * samplestotakefromeachclass: \n",
        "        X.append(ut[\"utterances\"][np.random.randint(1,len(ut[\"utterances\"]))][\"text\"])\n",
        "        Y.append(class_to_add)\n",
        "        dd[class_to_add] += 1\n",
        "    else:\n",
        "        X_val.append(sent[\"text\"])\n",
        "        Y_val.append(class_to_add)\n",
        "\n",
        "for category in command_siri.keys():\n",
        "    for sent in command_siri[category]:\n",
        "        if dd[category] < samplestotakefromeachclass:\n",
        "            X.append(sent)\n",
        "            Y.append(category)\n",
        "            dd[category] += 1\n",
        "\n",
        "X = np.array(X)\n",
        "Y= transform_array(Y)\n",
        "\n",
        "X_val = np.array(X_val)[:6000]\n",
        "Y_val = transform_array(Y_val)[:6000]"
      ],
      "execution_count": 0,
      "outputs": []
    },
    {
      "cell_type": "code",
      "metadata": {
        "id": "2FfukGBZQ91V",
        "colab_type": "code",
        "colab": {}
      },
      "source": [
        "label = {}\n",
        "for i in range(len(X)):\n",
        "    label[X[i]] = Y[i]"
      ],
      "execution_count": 0,
      "outputs": []
    },
    {
      "cell_type": "code",
      "metadata": {
        "id": "QJP1_x5qVC-o",
        "colab_type": "code",
        "outputId": "0c3e7fa6-0149-4978-e154-566d985536bb",
        "colab": {
          "base_uri": "https://localhost:8080/",
          "height": 34
        }
      },
      "source": [
        "list(label.values())[0]"
      ],
      "execution_count": 0,
      "outputs": [
        {
          "output_type": "execute_result",
          "data": {
            "text/plain": [
              "array([0, 0, 0, 0, 0, 0, 0, 0, 1, 0, 0])"
            ]
          },
          "metadata": {
            "tags": []
          },
          "execution_count": 13
        }
      ]
    },
    {
      "cell_type": "code",
      "metadata": {
        "id": "PWE1wGGnQ91W",
        "colab_type": "code",
        "colab": {}
      },
      "source": [
        "np.random.shuffle(X)"
      ],
      "execution_count": 0,
      "outputs": []
    },
    {
      "cell_type": "code",
      "metadata": {
        "id": "E1_B7QM1Q91X",
        "colab_type": "code",
        "outputId": "3b12418a-028b-4cc5-b818-1d2989900246",
        "colab": {
          "base_uri": "https://localhost:8080/",
          "height": 34
        }
      },
      "source": [
        "X.shape"
      ],
      "execution_count": 0,
      "outputs": [
        {
          "output_type": "execute_result",
          "data": {
            "text/plain": [
              "(11119,)"
            ]
          },
          "metadata": {
            "tags": []
          },
          "execution_count": 15
        }
      ]
    },
    {
      "cell_type": "code",
      "metadata": {
        "id": "tuGSXA18Q91Y",
        "colab_type": "code",
        "colab": {}
      },
      "source": [
        "Y = []\n",
        "for i in range(len(X)):\n",
        "    Y.append(label[X[i]])"
      ],
      "execution_count": 0,
      "outputs": []
    },
    {
      "cell_type": "code",
      "metadata": {
        "id": "KCG9B6pcQ91Z",
        "colab_type": "code",
        "colab": {}
      },
      "source": [
        "Y = np.vstack(Y)"
      ],
      "execution_count": 0,
      "outputs": []
    },
    {
      "cell_type": "code",
      "metadata": {
        "id": "CLrI1FQMQ91Z",
        "colab_type": "code",
        "outputId": "eef811e8-1ebd-4faf-e9fd-28779e3fc33f",
        "colab": {
          "base_uri": "https://localhost:8080/",
          "height": 34
        }
      },
      "source": [
        "Y.shape"
      ],
      "execution_count": 0,
      "outputs": [
        {
          "output_type": "execute_result",
          "data": {
            "text/plain": [
              "(11119, 11)"
            ]
          },
          "metadata": {
            "tags": []
          },
          "execution_count": 18
        }
      ]
    },
    {
      "cell_type": "markdown",
      "metadata": {
        "id": "yhdft8rTQ91a",
        "colab_type": "text"
      },
      "source": [
        "## Model Establish and Training"
      ]
    },
    {
      "cell_type": "code",
      "metadata": {
        "colab_type": "code",
        "id": "e6bY_udEe-Nr",
        "colab": {}
      },
      "source": [
        "url = \"https://tfhub.dev/google/elmo/2\"\n",
        "ELMO = hub.Module(url)\n",
        "\n",
        "def ELMOO(x):\n",
        "    return ELMO(tf.squeeze(tf.cast(x,tf.string)),signature=\"default\",as_dict=True)[\"elmo\"]\n",
        "\n",
        "def build_model_bider():\n",
        "    input_text = Input(shape=(1,),dtype=tf.string)\n",
        "    embedding = Lambda(ELMOO, output_shape=(1,1024))(input_text)\n",
        "    x = Bidirectional(LSTM(units=512, return_sequences=True,recurrent_dropout=0.2, dropout=0.2))(embedding)\n",
        "    x_rnn = Bidirectional(LSTM(units=512, return_sequences=False,recurrent_dropout=0.2, dropout=0.2))(x)\n",
        "    out =  Dense(numofclasses, activation=\"softmax\")(x_rnn)\n",
        "    model = Model(inputs=input_text,outputs=out)\n",
        "    model.compile(loss='categorical_crossentropy', optimizer='adam', metrics=['accuracy'])\n",
        "    return model\n",
        "\n",
        "def build_model_lstm():\n",
        "    input_text1 = Input(shape=(None,),dtype=tf.string)\n",
        "    embeding1 = Lambda(ELMOO, output_shape=(None,1024))(input_text1)\n",
        "    ltsm = LSTM(128,return_sequences=False)(embeding1)\n",
        "    out = Dense(numofclasses,activation=\"softmax\")(ltsm)\n",
        "    model = Model(inputs=input_text1,outputs=out)\n",
        "    model.compile(loss='categorical_crossentropy', optimizer='adam', metrics=['accuracy'])\n",
        "    return model\n",
        "\n",
        "def build_model_dense():\n",
        "    def ELMOO1(x):\n",
        "      return ELMO(tf.squeeze(tf.cast(x,tf.string)),signature=\"default\",as_dict=True)[\"default\"]\n",
        "    input_text1 = Input(shape=(None,),dtype=tf.string)\n",
        "    embeding1 = Lambda(ELMOO1)(input_text1)\n",
        "    dd = Dense(128)(embeding1)\n",
        "    out = Dense(numofclasses,activation=\"softmax\")(dd)\n",
        "    model = Model(inputs=input_text1,outputs=out)\n",
        "    model.compile(loss='categorical_crossentropy', optimizer='adam', metrics=['accuracy'])\n",
        "    return model\n",
        "\n",
        "def build_model_cnn_1d():\n",
        "    input_text = Input(shape=(None,),dtype=tf.string)\n",
        "    embedding = Lambda(ELMOO, output_shape=(None,1024))(input_text)\n",
        "    x = Lambda(lambda x: x[:1024])(embedding)\n",
        "    cnn1 = Conv1D(128, 5, activation='relu') (embedding)\n",
        "    cnn2 = Conv1D(128, 5, activation='relu')(cnn1)\n",
        "    mp = MaxPooling1D(3,1)(cnn2)\n",
        "    cnn3 = Conv1D(128, 2, activation='relu')(mp)\n",
        "    cnn4 = Conv1D(128, 2, activation='relu')(cnn3)\n",
        "    gap = GlobalAveragePooling1D()(cnn4)\n",
        "    output = Dense(numofclasses, activation=\"softmax\")(gap)\n",
        "    model = Model(inputs=input_text, output=output)\n",
        "    model.compile(loss='categorical_crossentropy', optimizer='adam', metrics=['accuracy'])\n",
        "    return model"
      ],
      "execution_count": 0,
      "outputs": []
    },
    {
      "cell_type": "code",
      "metadata": {
        "colab_type": "code",
        "id": "7zxjBvtlXcZl",
        "outputId": "83c48070-c508-4f56-db5c-560f841f9fa0",
        "colab": {
          "base_uri": "https://localhost:8080/",
          "height": 1000
        }
      },
      "source": [
        "model_lstm = build_model_lstm()\n",
        "print(\"model LSTM\")\n",
        "model_lstm.summary()\n",
        "print(128*\"-\")\n",
        "print()\n",
        "model_bider = build_model_bider()\n",
        "print(\"model Bidirection\")\n",
        "model_bider.summary()\n",
        "print(128*\"-\")\n",
        "print()\n",
        "model_cnn1d = build_model_cnn_1d()\n",
        "print(\"model cnn_1d\")\n",
        "model_cnn1d.summary()\n",
        "\n",
        "print(128*\"-\")\n",
        "print()\n",
        "model_dense= build_model_dense()\n",
        "print(\"model dense\")\n",
        "model_dense.summary()"
      ],
      "execution_count": 0,
      "outputs": [
        {
          "output_type": "stream",
          "text": [
            "WARNING:tensorflow:From /usr/local/lib/python3.6/dist-packages/keras/backend/tensorflow_backend.py:66: The name tf.get_default_graph is deprecated. Please use tf.compat.v1.get_default_graph instead.\n",
            "\n"
          ],
          "name": "stdout"
        },
        {
          "output_type": "stream",
          "text": [
            "WARNING:tensorflow:From /usr/local/lib/python3.6/dist-packages/keras/backend/tensorflow_backend.py:66: The name tf.get_default_graph is deprecated. Please use tf.compat.v1.get_default_graph instead.\n",
            "\n"
          ],
          "name": "stderr"
        },
        {
          "output_type": "stream",
          "text": [
            "WARNING:tensorflow:From /usr/local/lib/python3.6/dist-packages/keras/backend/tensorflow_backend.py:541: The name tf.placeholder is deprecated. Please use tf.compat.v1.placeholder instead.\n",
            "\n"
          ],
          "name": "stdout"
        },
        {
          "output_type": "stream",
          "text": [
            "WARNING:tensorflow:From /usr/local/lib/python3.6/dist-packages/keras/backend/tensorflow_backend.py:541: The name tf.placeholder is deprecated. Please use tf.compat.v1.placeholder instead.\n",
            "\n"
          ],
          "name": "stderr"
        },
        {
          "output_type": "stream",
          "text": [
            "INFO:tensorflow:Saver not created because there are no variables in the graph to restore\n"
          ],
          "name": "stdout"
        },
        {
          "output_type": "stream",
          "text": [
            "INFO:tensorflow:Saver not created because there are no variables in the graph to restore\n"
          ],
          "name": "stderr"
        },
        {
          "output_type": "stream",
          "text": [
            "WARNING:tensorflow:From /usr/local/lib/python3.6/dist-packages/keras/backend/tensorflow_backend.py:4432: The name tf.random_uniform is deprecated. Please use tf.random.uniform instead.\n",
            "\n"
          ],
          "name": "stdout"
        },
        {
          "output_type": "stream",
          "text": [
            "WARNING:tensorflow:From /usr/local/lib/python3.6/dist-packages/keras/backend/tensorflow_backend.py:4432: The name tf.random_uniform is deprecated. Please use tf.random.uniform instead.\n",
            "\n"
          ],
          "name": "stderr"
        },
        {
          "output_type": "stream",
          "text": [
            "WARNING:tensorflow:From /usr/local/lib/python3.6/dist-packages/keras/optimizers.py:793: The name tf.train.Optimizer is deprecated. Please use tf.compat.v1.train.Optimizer instead.\n",
            "\n"
          ],
          "name": "stdout"
        },
        {
          "output_type": "stream",
          "text": [
            "WARNING:tensorflow:From /usr/local/lib/python3.6/dist-packages/keras/optimizers.py:793: The name tf.train.Optimizer is deprecated. Please use tf.compat.v1.train.Optimizer instead.\n",
            "\n"
          ],
          "name": "stderr"
        },
        {
          "output_type": "stream",
          "text": [
            "WARNING:tensorflow:From /usr/local/lib/python3.6/dist-packages/keras/backend/tensorflow_backend.py:3576: The name tf.log is deprecated. Please use tf.math.log instead.\n",
            "\n"
          ],
          "name": "stdout"
        },
        {
          "output_type": "stream",
          "text": [
            "WARNING:tensorflow:From /usr/local/lib/python3.6/dist-packages/keras/backend/tensorflow_backend.py:3576: The name tf.log is deprecated. Please use tf.math.log instead.\n",
            "\n"
          ],
          "name": "stderr"
        },
        {
          "output_type": "stream",
          "text": [
            "model LSTM\n",
            "Model: \"model_1\"\n",
            "_________________________________________________________________\n",
            "Layer (type)                 Output Shape              Param #   \n",
            "=================================================================\n",
            "input_1 (InputLayer)         (None, None)              0         \n",
            "_________________________________________________________________\n",
            "lambda_1 (Lambda)            (None, None, 1024)        0         \n",
            "_________________________________________________________________\n",
            "lstm_1 (LSTM)                (None, 128)               590336    \n",
            "_________________________________________________________________\n",
            "dense_1 (Dense)              (None, 11)                1419      \n",
            "=================================================================\n",
            "Total params: 591,755\n",
            "Trainable params: 591,755\n",
            "Non-trainable params: 0\n",
            "_________________________________________________________________\n",
            "--------------------------------------------------------------------------------------------------------------------------------\n",
            "\n",
            "INFO:tensorflow:Saver not created because there are no variables in the graph to restore\n"
          ],
          "name": "stdout"
        },
        {
          "output_type": "stream",
          "text": [
            "INFO:tensorflow:Saver not created because there are no variables in the graph to restore\n"
          ],
          "name": "stderr"
        },
        {
          "output_type": "stream",
          "text": [
            "WARNING:tensorflow:From /usr/local/lib/python3.6/dist-packages/keras/backend/tensorflow_backend.py:148: The name tf.placeholder_with_default is deprecated. Please use tf.compat.v1.placeholder_with_default instead.\n",
            "\n"
          ],
          "name": "stdout"
        },
        {
          "output_type": "stream",
          "text": [
            "WARNING:tensorflow:From /usr/local/lib/python3.6/dist-packages/keras/backend/tensorflow_backend.py:148: The name tf.placeholder_with_default is deprecated. Please use tf.compat.v1.placeholder_with_default instead.\n",
            "\n"
          ],
          "name": "stderr"
        },
        {
          "output_type": "stream",
          "text": [
            "WARNING:tensorflow:From /usr/local/lib/python3.6/dist-packages/keras/backend/tensorflow_backend.py:3733: calling dropout (from tensorflow.python.ops.nn_ops) with keep_prob is deprecated and will be removed in a future version.\n",
            "Instructions for updating:\n",
            "Please use `rate` instead of `keep_prob`. Rate should be set to `rate = 1 - keep_prob`.\n"
          ],
          "name": "stdout"
        },
        {
          "output_type": "stream",
          "text": [
            "WARNING:tensorflow:From /usr/local/lib/python3.6/dist-packages/keras/backend/tensorflow_backend.py:3733: calling dropout (from tensorflow.python.ops.nn_ops) with keep_prob is deprecated and will be removed in a future version.\n",
            "Instructions for updating:\n",
            "Please use `rate` instead of `keep_prob`. Rate should be set to `rate = 1 - keep_prob`.\n"
          ],
          "name": "stderr"
        },
        {
          "output_type": "stream",
          "text": [
            "model Bidirection\n",
            "Model: \"model_2\"\n",
            "_________________________________________________________________\n",
            "Layer (type)                 Output Shape              Param #   \n",
            "=================================================================\n",
            "input_2 (InputLayer)         (None, 1)                 0         \n",
            "_________________________________________________________________\n",
            "lambda_2 (Lambda)            (None, 1, 1024)           0         \n",
            "_________________________________________________________________\n",
            "bidirectional_1 (Bidirection (None, 1, 1024)           6295552   \n",
            "_________________________________________________________________\n",
            "bidirectional_2 (Bidirection (None, 1024)              6295552   \n",
            "_________________________________________________________________\n",
            "dense_2 (Dense)              (None, 11)                11275     \n",
            "=================================================================\n",
            "Total params: 12,602,379\n",
            "Trainable params: 12,602,379\n",
            "Non-trainable params: 0\n",
            "_________________________________________________________________\n",
            "--------------------------------------------------------------------------------------------------------------------------------\n",
            "\n",
            "INFO:tensorflow:Saver not created because there are no variables in the graph to restore\n"
          ],
          "name": "stdout"
        },
        {
          "output_type": "stream",
          "text": [
            "INFO:tensorflow:Saver not created because there are no variables in the graph to restore\n"
          ],
          "name": "stderr"
        },
        {
          "output_type": "stream",
          "text": [
            "WARNING:tensorflow:From /usr/local/lib/python3.6/dist-packages/keras/backend/tensorflow_backend.py:4267: The name tf.nn.max_pool is deprecated. Please use tf.nn.max_pool2d instead.\n",
            "\n"
          ],
          "name": "stdout"
        },
        {
          "output_type": "stream",
          "text": [
            "WARNING:tensorflow:From /usr/local/lib/python3.6/dist-packages/keras/backend/tensorflow_backend.py:4267: The name tf.nn.max_pool is deprecated. Please use tf.nn.max_pool2d instead.\n",
            "\n"
          ],
          "name": "stderr"
        },
        {
          "output_type": "stream",
          "text": [
            "model cnn_1d\n",
            "Model: \"model_3\"\n",
            "_________________________________________________________________\n",
            "Layer (type)                 Output Shape              Param #   \n",
            "=================================================================\n",
            "input_3 (InputLayer)         (None, None)              0         \n",
            "_________________________________________________________________\n",
            "lambda_3 (Lambda)            (None, None, 1024)        0         \n",
            "_________________________________________________________________\n",
            "conv1d_1 (Conv1D)            (None, None, 128)         655488    \n",
            "_________________________________________________________________\n",
            "conv1d_2 (Conv1D)            (None, None, 128)         82048     \n",
            "_________________________________________________________________\n",
            "max_pooling1d_1 (MaxPooling1 (None, None, 128)         0         \n",
            "_________________________________________________________________\n",
            "conv1d_3 (Conv1D)            (None, None, 128)         32896     \n",
            "_________________________________________________________________\n",
            "conv1d_4 (Conv1D)            (None, None, 128)         32896     \n",
            "_________________________________________________________________\n",
            "global_average_pooling1d_1 ( (None, 128)               0         \n",
            "_________________________________________________________________\n",
            "dense_3 (Dense)              (None, 11)                1419      \n",
            "=================================================================\n",
            "Total params: 804,747\n",
            "Trainable params: 804,747\n",
            "Non-trainable params: 0\n",
            "_________________________________________________________________\n"
          ],
          "name": "stdout"
        },
        {
          "output_type": "stream",
          "text": [
            "/usr/local/lib/python3.6/dist-packages/ipykernel_launcher.py:37: UserWarning: Update your `Model` call to the Keras 2 API: `Model(inputs=Tensor(\"in..., outputs=Tensor(\"de...)`\n"
          ],
          "name": "stderr"
        }
      ]
    },
    {
      "cell_type": "code",
      "metadata": {
        "colab_type": "code",
        "id": "2xPjoTmugz9o",
        "outputId": "5a59a79c-c5f9-4336-811d-79cbbae221ee",
        "scrolled": true,
        "colab": {
          "base_uri": "https://localhost:8080/",
          "height": 1000
        }
      },
      "source": [
        "# samplestotake = (X.shape[0]//batchsize)*batchsize\n",
        "# samplestotake_val = (X_val.shape[0]//batchsize)*batchsize\n",
        "print(\"LSTM\")\n",
        "model_lstm.fit(X,Y,epochs=4,batch_size=batchsize, shuffle=True, validation_split=0.2)\n",
        "\n",
        "print(\"\")\n",
        "print(\"BIDIR\")\n",
        "model_bider.fit(X,Y,epochs=10,batch_size=batchsize, shuffle=True, validation_split=0.2)\n"
      ],
      "execution_count": 0,
      "outputs": [
        {
          "output_type": "stream",
          "text": [
            "LSTM\n",
            "WARNING:tensorflow:From /usr/local/lib/python3.6/dist-packages/tensorflow_core/python/ops/math_grad.py:1424: where (from tensorflow.python.ops.array_ops) is deprecated and will be removed in a future version.\n",
            "Instructions for updating:\n",
            "Use tf.where in 2.0, which has the same broadcast rule as np.where\n"
          ],
          "name": "stdout"
        },
        {
          "output_type": "stream",
          "text": [
            "WARNING:tensorflow:From /usr/local/lib/python3.6/dist-packages/tensorflow_core/python/ops/math_grad.py:1424: where (from tensorflow.python.ops.array_ops) is deprecated and will be removed in a future version.\n",
            "Instructions for updating:\n",
            "Use tf.where in 2.0, which has the same broadcast rule as np.where\n"
          ],
          "name": "stderr"
        },
        {
          "output_type": "stream",
          "text": [
            "WARNING:tensorflow:From /usr/local/lib/python3.6/dist-packages/keras/backend/tensorflow_backend.py:1033: The name tf.assign_add is deprecated. Please use tf.compat.v1.assign_add instead.\n",
            "\n"
          ],
          "name": "stdout"
        },
        {
          "output_type": "stream",
          "text": [
            "WARNING:tensorflow:From /usr/local/lib/python3.6/dist-packages/keras/backend/tensorflow_backend.py:1033: The name tf.assign_add is deprecated. Please use tf.compat.v1.assign_add instead.\n",
            "\n"
          ],
          "name": "stderr"
        },
        {
          "output_type": "stream",
          "text": [
            "WARNING:tensorflow:From /usr/local/lib/python3.6/dist-packages/keras/backend/tensorflow_backend.py:1020: The name tf.assign is deprecated. Please use tf.compat.v1.assign instead.\n",
            "\n"
          ],
          "name": "stdout"
        },
        {
          "output_type": "stream",
          "text": [
            "WARNING:tensorflow:From /usr/local/lib/python3.6/dist-packages/keras/backend/tensorflow_backend.py:1020: The name tf.assign is deprecated. Please use tf.compat.v1.assign instead.\n",
            "\n"
          ],
          "name": "stderr"
        },
        {
          "output_type": "stream",
          "text": [
            "WARNING:tensorflow:From /usr/local/lib/python3.6/dist-packages/keras/backend/tensorflow_backend.py:3005: The name tf.Session is deprecated. Please use tf.compat.v1.Session instead.\n",
            "\n"
          ],
          "name": "stdout"
        },
        {
          "output_type": "stream",
          "text": [
            "WARNING:tensorflow:From /usr/local/lib/python3.6/dist-packages/keras/backend/tensorflow_backend.py:3005: The name tf.Session is deprecated. Please use tf.compat.v1.Session instead.\n",
            "\n"
          ],
          "name": "stderr"
        },
        {
          "output_type": "stream",
          "text": [
            "Train on 8895 samples, validate on 2224 samples\n",
            "Epoch 1/4\n",
            "WARNING:tensorflow:From /usr/local/lib/python3.6/dist-packages/keras/backend/tensorflow_backend.py:190: The name tf.get_default_session is deprecated. Please use tf.compat.v1.get_default_session instead.\n",
            "\n"
          ],
          "name": "stdout"
        },
        {
          "output_type": "stream",
          "text": [
            "WARNING:tensorflow:From /usr/local/lib/python3.6/dist-packages/keras/backend/tensorflow_backend.py:190: The name tf.get_default_session is deprecated. Please use tf.compat.v1.get_default_session instead.\n",
            "\n"
          ],
          "name": "stderr"
        },
        {
          "output_type": "stream",
          "text": [
            "WARNING:tensorflow:From /usr/local/lib/python3.6/dist-packages/keras/backend/tensorflow_backend.py:197: The name tf.ConfigProto is deprecated. Please use tf.compat.v1.ConfigProto instead.\n",
            "\n"
          ],
          "name": "stdout"
        },
        {
          "output_type": "stream",
          "text": [
            "WARNING:tensorflow:From /usr/local/lib/python3.6/dist-packages/keras/backend/tensorflow_backend.py:197: The name tf.ConfigProto is deprecated. Please use tf.compat.v1.ConfigProto instead.\n",
            "\n"
          ],
          "name": "stderr"
        },
        {
          "output_type": "stream",
          "text": [
            "WARNING:tensorflow:From /usr/local/lib/python3.6/dist-packages/keras/backend/tensorflow_backend.py:207: The name tf.global_variables is deprecated. Please use tf.compat.v1.global_variables instead.\n",
            "\n"
          ],
          "name": "stdout"
        },
        {
          "output_type": "stream",
          "text": [
            "WARNING:tensorflow:From /usr/local/lib/python3.6/dist-packages/keras/backend/tensorflow_backend.py:207: The name tf.global_variables is deprecated. Please use tf.compat.v1.global_variables instead.\n",
            "\n"
          ],
          "name": "stderr"
        },
        {
          "output_type": "stream",
          "text": [
            "WARNING:tensorflow:From /usr/local/lib/python3.6/dist-packages/keras/backend/tensorflow_backend.py:216: The name tf.is_variable_initialized is deprecated. Please use tf.compat.v1.is_variable_initialized instead.\n",
            "\n"
          ],
          "name": "stdout"
        },
        {
          "output_type": "stream",
          "text": [
            "WARNING:tensorflow:From /usr/local/lib/python3.6/dist-packages/keras/backend/tensorflow_backend.py:216: The name tf.is_variable_initialized is deprecated. Please use tf.compat.v1.is_variable_initialized instead.\n",
            "\n"
          ],
          "name": "stderr"
        },
        {
          "output_type": "stream",
          "text": [
            "WARNING:tensorflow:From /usr/local/lib/python3.6/dist-packages/keras/backend/tensorflow_backend.py:223: The name tf.variables_initializer is deprecated. Please use tf.compat.v1.variables_initializer instead.\n",
            "\n"
          ],
          "name": "stdout"
        },
        {
          "output_type": "stream",
          "text": [
            "WARNING:tensorflow:From /usr/local/lib/python3.6/dist-packages/keras/backend/tensorflow_backend.py:223: The name tf.variables_initializer is deprecated. Please use tf.compat.v1.variables_initializer instead.\n",
            "\n"
          ],
          "name": "stderr"
        },
        {
          "output_type": "stream",
          "text": [
            "8895/8895 [==============================] - 73s 8ms/step - loss: 0.7567 - acc: 0.7485 - val_loss: 0.3678 - val_acc: 0.8934\n",
            "Epoch 2/4\n",
            "8895/8895 [==============================] - 48s 5ms/step - loss: 0.2519 - acc: 0.9279 - val_loss: 0.2624 - val_acc: 0.9254\n",
            "Epoch 3/4\n",
            "8895/8895 [==============================] - 48s 5ms/step - loss: 0.1700 - acc: 0.9494 - val_loss: 0.2732 - val_acc: 0.9290\n",
            "Epoch 4/4\n",
            "8895/8895 [==============================] - 48s 5ms/step - loss: 0.1232 - acc: 0.9650 - val_loss: 0.2963 - val_acc: 0.9164\n",
            "\n",
            "BIDIR\n",
            "Train on 8895 samples, validate on 2224 samples\n",
            "Epoch 1/10\n",
            "8895/8895 [==============================] - 51s 6ms/step - loss: 1.1227 - acc: 0.5798 - val_loss: 0.7158 - val_acc: 0.7469\n",
            "Epoch 2/10\n",
            "8895/8895 [==============================] - 46s 5ms/step - loss: 0.6703 - acc: 0.7582 - val_loss: 0.6916 - val_acc: 0.7527\n",
            "Epoch 3/10\n",
            "8895/8895 [==============================] - 46s 5ms/step - loss: 0.5723 - acc: 0.7947 - val_loss: 0.6068 - val_acc: 0.7900\n",
            "Epoch 4/10\n",
            "8895/8895 [==============================] - 46s 5ms/step - loss: 0.5089 - acc: 0.8191 - val_loss: 0.5731 - val_acc: 0.8049\n",
            "Epoch 5/10\n",
            "8895/8895 [==============================] - 47s 5ms/step - loss: 0.4533 - acc: 0.8342 - val_loss: 0.5765 - val_acc: 0.7995\n",
            "Epoch 6/10\n",
            "8895/8895 [==============================] - 47s 5ms/step - loss: 0.4182 - acc: 0.8513 - val_loss: 0.5868 - val_acc: 0.8107\n",
            "Epoch 7/10\n",
            "8895/8895 [==============================] - 46s 5ms/step - loss: 0.3945 - acc: 0.8596 - val_loss: 0.5571 - val_acc: 0.8147\n",
            "Epoch 8/10\n",
            "8895/8895 [==============================] - 46s 5ms/step - loss: 0.3641 - acc: 0.8667 - val_loss: 0.5947 - val_acc: 0.8161\n",
            "Epoch 9/10\n",
            "8895/8895 [==============================] - 47s 5ms/step - loss: 0.3370 - acc: 0.8786 - val_loss: 0.5380 - val_acc: 0.8359\n",
            "Epoch 10/10\n",
            "8895/8895 [==============================] - 46s 5ms/step - loss: 0.3245 - acc: 0.8835 - val_loss: 0.5888 - val_acc: 0.8197\n"
          ],
          "name": "stdout"
        },
        {
          "output_type": "execute_result",
          "data": {
            "text/plain": [
              "<keras.callbacks.History at 0x7f4a199a6390>"
            ]
          },
          "metadata": {
            "tags": []
          },
          "execution_count": 21
        }
      ]
    },
    {
      "cell_type": "code",
      "metadata": {
        "colab_type": "code",
        "id": "rAGHFVHAg44i",
        "colab": {}
      },
      "source": [
        "class_dict = {'auto': 0, 'coffee': 1, 'datetime': 2, 'movie': 3, 'music': 4, 'news': 5, 'non-opening': 6, 'pizza': 7, 'restaurant': 8, 'uber': 9, 'weather': 10}"
      ],
      "execution_count": 0,
      "outputs": []
    },
    {
      "cell_type": "code",
      "metadata": {
        "id": "smvB_KBlQ91e",
        "colab_type": "code",
        "colab": {}
      },
      "source": [
        "classes_arr = list(class_dict.keys())"
      ],
      "execution_count": 0,
      "outputs": []
    },
    {
      "cell_type": "code",
      "metadata": {
        "id": "CwPPOlnnQ91e",
        "colab_type": "code",
        "outputId": "8930abae-819d-4d03-82da-1c9fb7159d3d",
        "colab": {
          "base_uri": "https://localhost:8080/",
          "height": 204
        }
      },
      "source": [
        "classes_arr"
      ],
      "execution_count": 0,
      "outputs": [
        {
          "output_type": "execute_result",
          "data": {
            "text/plain": [
              "['auto',\n",
              " 'coffee',\n",
              " 'datetime',\n",
              " 'movie',\n",
              " 'music',\n",
              " 'news',\n",
              " 'non-opening',\n",
              " 'pizza',\n",
              " 'restaurant',\n",
              " 'uber',\n",
              " 'weather']"
            ]
          },
          "metadata": {
            "tags": []
          },
          "execution_count": 24
        }
      ]
    },
    {
      "cell_type": "code",
      "metadata": {
        "colab_type": "code",
        "id": "XU_lOwMnZ2VO",
        "outputId": "9b6a8635-0a6f-4ad8-f6a4-f8064a7e4d10",
        "scrolled": true,
        "colab": {
          "base_uri": "https://localhost:8080/",
          "height": 34
        }
      },
      "source": [
        "X = np.array([[\"Where is the nearest Starbucks ?\"],[\"i need to repair my car\"],[\"I need a ride from home\"],\n",
        "              [\"I want to order something to eat\"],[\"Wait a moment\"],[\"I want to go to the airport\"], [\"This song is really good\"],\n",
        "              [\"can you play the song of Mikel Jackson\"],[\"I prefer the red\"], [\"What is the time\"], [\"Give me some news today\"], \n",
        "              [\"It's time to leave here\"]])\n",
        "prediction = model_lstm.predict(X)\n",
        "a = [classes_arr[i] for i in np.argmax(prediction,axis=1)]\n",
        "print(a)\n",
        "\n",
        "#prediction = model_bider.predict(X)\n",
        "#a = [classes_arr[i] for i in np.argmax(prediction,axis=1)]\n",
        "#print(a)\n",
        "\n",
        "# prediction = model_cnn1d.predict(X)\n",
        "# a = [classes_arr[i] for i in np.argmax(prediction,axis=1)]\n",
        "# print(a)"
      ],
      "execution_count": 0,
      "outputs": [
        {
          "output_type": "stream",
          "text": [
            "['coffee', 'auto', 'uber', 'restaurant', 'non-opening', 'uber', 'non-opening', 'music', 'non-opening', 'datetime', 'news', 'uber']\n"
          ],
          "name": "stdout"
        }
      ]
    },
    {
      "cell_type": "code",
      "metadata": {
        "colab_type": "code",
        "id": "VRUGRyD13to-",
        "colab": {}
      },
      "source": [
        "model_bider.save_weights(\"bider.h5\")\n",
        "model_lstm.save_weights(\"lstm.h5\")"
      ],
      "execution_count": 0,
      "outputs": []
    },
    {
      "cell_type": "code",
      "metadata": {
        "id": "c8a98Q0smHD6",
        "colab_type": "code",
        "outputId": "4512107d-6219-4a31-de2d-2931e8e49081",
        "colab": {
          "base_uri": "https://localhost:8080/",
          "height": 51
        }
      },
      "source": [
        "model_lstm = build_model_lstm()\n",
        "model_lstm.load_weights(\"lstm.h5\")"
      ],
      "execution_count": 0,
      "outputs": [
        {
          "output_type": "stream",
          "text": [
            "INFO:tensorflow:Saver not created because there are no variables in the graph to restore\n"
          ],
          "name": "stdout"
        },
        {
          "output_type": "stream",
          "text": [
            "INFO:tensorflow:Saver not created because there are no variables in the graph to restore\n"
          ],
          "name": "stderr"
        }
      ]
    },
    {
      "cell_type": "code",
      "metadata": {
        "id": "9VlVAtb8W_An",
        "colab_type": "code",
        "cellView": "form",
        "outputId": "71033a6d-6dba-424d-c2ae-95f85d64a2b6",
        "colab": {
          "base_uri": "https://localhost:8080/",
          "height": 34
        }
      },
      "source": [
        "text = 'I need a ride' #@param {type:\"string\"}\n",
        "X = np.array([[text],[\"\"]])\n",
        "prediction = model_lstm.predict(X)\n",
        "a = [classes_arr[i] for i in np.argmax(prediction,axis=1)]\n",
        "print(a[0])\n"
      ],
      "execution_count": 0,
      "outputs": [
        {
          "output_type": "stream",
          "text": [
            "uber\n"
          ],
          "name": "stdout"
        }
      ]
    },
    {
      "cell_type": "code",
      "metadata": {
        "id": "IIWivwfyXWEE",
        "colab_type": "code",
        "cellView": "form",
        "outputId": "dee1ef65-adbf-46fa-acce-9106dda0be12",
        "colab": {
          "base_uri": "https://localhost:8080/",
          "height": 34
        }
      },
      "source": [
        "text = \"I want to see a movie tonight#what movie ?#I don't know, what's available ?#I need a ride\" #@param {type:\"string\"}\n",
        "X = np.array([[t] for t in text.split(\"#\")])\n",
        "prediction = model_lstm.predict(X)\n",
        "a = [classes_arr[i] for i in np.argmax(prediction,axis=1)]\n",
        "print(a)"
      ],
      "execution_count": 0,
      "outputs": [
        {
          "output_type": "stream",
          "text": [
            "['movie', 'non-opening', 'non-opening', 'uber']\n"
          ],
          "name": "stdout"
        }
      ]
    }
  ]
}